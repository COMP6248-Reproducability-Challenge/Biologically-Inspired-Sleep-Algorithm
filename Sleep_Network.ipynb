{
  "nbformat": 4,
  "nbformat_minor": 0,
  "metadata": {
    "accelerator": "TPU",
    "colab": {
      "name": "Untitled0.ipynb",
      "provenance": [],
      "collapsed_sections": [],
      "include_colab_link": true
    },
    "kernelspec": {
      "display_name": "Python 3",
      "language": "python",
      "name": "python3"
    },
    "language_info": {
      "codemirror_mode": {
        "name": "ipython",
        "version": 3
      },
      "file_extension": ".py",
      "mimetype": "text/x-python",
      "name": "python",
      "nbconvert_exporter": "python",
      "pygments_lexer": "ipython3",
      "version": "3.8.3"
    }
  },
  "cells": [
    {
      "cell_type": "markdown",
      "metadata": {
        "id": "view-in-github",
        "colab_type": "text"
      },
      "source": [
        "<a href=\"https://colab.research.google.com/github/DuckShyamalan/COMP6248-Reproducibility-Challenge/blob/main/Sleep_Network.ipynb\" target=\"_parent\"><img src=\"https://colab.research.google.com/assets/colab-badge.svg\" alt=\"Open In Colab\"/></a>"
      ]
    },
    {
      "cell_type": "code",
      "metadata": {
        "id": "3Atq8385g9OO"
      },
      "source": [
        "# Execute this code block to install dependencies when running on colab\n",
        "try:\n",
        "    import torch\n",
        "except:\n",
        "    from os.path import exists\n",
        "    from wheel.pep425tags import get_abbr_impl, get_impl_ver, get_abi_tag\n",
        "    platform = '{}{}-{}'.format(get_abbr_impl(), get_impl_ver(), get_abi_tag())\n",
        "    cuda_output = !ldconfig -p|grep cudart.so|sed -e 's/.*\\.\\([0-9]*\\)\\.\\([0-9]*\\)$/cu\\1\\2/'\n",
        "    accelerator = cuda_output[0] if exists('/dev/nvidia0') else 'cpu'\n",
        "\n",
        "    !pip install -q http://download.pytorch.org/whl/{accelerator}/torch-1.0.0-{platform}-linux_x86_64.whl torchvision\n",
        "\n",
        "try: \n",
        "    import torchbearer\n",
        "except:\n",
        "    !pip install torchbearer"
      ],
      "execution_count": null,
      "outputs": []
    },
    {
      "cell_type": "code",
      "metadata": {
        "id": "Pxor3YdNhRbi"
      },
      "source": [
        "import torch.nn.functional as F\n",
        "import torchvision.transforms as transforms\n",
        "from torch import nn\n",
        "from torch import optim\n",
        "from torch.utils.data import DataLoader\n",
        "from torch.utils.data import SubsetRandomSampler\n",
        "from torchvision.datasets import MNIST\n",
        "\n",
        "# fix random seed for reproducibility\n",
        "seed = 7\n",
        "torch.manual_seed(seed)\n",
        "torch.backends.cudnn.deterministic = True\n",
        "torch.backends.cudnn.benchmark = False\n",
        "import numpy as np\n",
        "np.random.seed(seed)\n",
        "device = \"cuda:0\" if torch.cuda.is_available() else \"cpu\"\n",
        "\n",
        "# flatten 28*28 images to a 784 vector for each image\n",
        "transform = transforms.Compose([\n",
        "    transforms.ToTensor(),  # convert to tensor\n",
        "    transforms.Lambda(lambda x: x.view(-1))  # flatten into vector\n",
        "])\n",
        "\n",
        "\n",
        "trainset = MNIST(\".\", train=True, download=True, transform=transform)\n",
        "testset = MNIST(\".\", train=False, download=True, transform=transform)\n",
        "\n",
        "trainset.data = trainset.data[0:27105]\n",
        "trainset.targets = trainset.targets[0:27105]\n",
        "\n",
        "trainloader = DataLoader(trainset, batch_size=128, shuffle=True)\n",
        "testloader = DataLoader(testset, batch_size=128, shuffle=True)\n",
        "\n",
        "(len(trainloader.dataset))\n"
      ],
      "execution_count": null,
      "outputs": []
    },
    {
      "cell_type": "code",
      "metadata": {
        "id": "PniGf6uUhVZR"
      },
      "source": [
        "class ANN(nn.Module):\n",
        "    def __init__(self, input_size, hidden_size, num_classes):\n",
        "        super(ANN, self).__init__()\n",
        "        self.fc1 = nn.Linear(input_size, hidden_size) \n",
        "        self.fc2 = nn.Linear(hidden_size, hidden_size)  \n",
        "        self.fc3 = nn.Linear(hidden_size, num_classes)\n",
        "    \n",
        "    def forward(self, x):\n",
        "        out = self.fc1(x)\n",
        "        out = F.relu(out)\n",
        "        out = F.dropout(out,p=0.2)\n",
        "        out = self.fc2(out)\n",
        "        out = F.relu(out)\n",
        "        out = self.fc3(out)\n",
        "        \n",
        "        if not self.training:\n",
        "            out = F.softmax(out, dim=1)\n",
        "        return out\n",
        "\n",
        "# build the model\n",
        "model = ANN(784, 1200, 10)"
      ],
      "execution_count": null,
      "outputs": []
    },
    {
      "cell_type": "code",
      "metadata": {
        "id": "UWJ-CqmyhXmB"
      },
      "source": [
        "import torchbearer\n",
        "# define the loss function and the optimiser\n",
        "loss_function = nn.CrossEntropyLoss()\n",
        "optimiser = optim.SGD(model.parameters(), lr=0.1, momentum=0.5)\n",
        "\n",
        "# Construct a trial object with the model, optimiser and loss.\n",
        "# Also specify metrics we wish to compute.\n",
        "trial = torchbearer.Trial(model, optimiser, loss_function, metrics=['loss', 'accuracy']).to(device)\n",
        "\n",
        "# Provide the data to the trial\n",
        "trial.with_generators(trainloader, test_generator=testloader)\n",
        "\n",
        "# Run 10 epochs of training\n",
        "trial.run(epochs=2)\n",
        "\n",
        "# test the performance\n",
        "results = trial.evaluate(data_key=torchbearer.TEST_DATA)\n",
        "print(results)"
      ],
      "execution_count": null,
      "outputs": []
    },
    {
      "cell_type": "code",
      "metadata": {
        "id": "DQaUamA5Vsuh"
      },
      "source": [
        "torch.save(model.state_dict(),\"ann_model.pt\")"
      ],
      "execution_count": null,
      "outputs": []
    },
    {
      "cell_type": "code",
      "metadata": {
        "id": "WvSchDdraoL6"
      },
      "source": [
        "print(model.fc1.weight)\n",
        "print(model.fc2.weight)\n",
        "print(model.fc3.weight)"
      ],
      "execution_count": null,
      "outputs": []
    },
    {
      "cell_type": "code",
      "metadata": {
        "id": "O4-vsQachdy_"
      },
      "source": [
        "def convertANNtoSNN(model):\n",
        "    \n",
        "    W1 = torch.clone(model.fc1.weight.data)\n",
        "    W2 = torch.clone(model.fc2.weight.data)\n",
        "    W3 = torch.clone(model.fc3.weight.data)\n",
        "    \n",
        "    SNN = ANN(W1.shape[1],W1.shape[0],W3.shape[0])\n",
        "    \n",
        "    SNN.fc1.weight.data = W1\n",
        "    SNN.fc2.weight.data = W2\n",
        "    SNN.fc3.weight.data = W3\n",
        "    \n",
        "    return SNN"
      ],
      "execution_count": null,
      "outputs": []
    },
    {
      "cell_type": "code",
      "metadata": {
        "id": "i6q1wLVFhp-r"
      },
      "source": [
        "SNN = convertANNtoSNN(model)"
      ],
      "execution_count": null,
      "outputs": []
    },
    {
      "cell_type": "code",
      "metadata": {
        "id": "cEIqrAOYhtOy"
      },
      "source": [
        "def sleep(SNN,inputs):\n",
        "  \n",
        "  maxFiringRate = 40.0\n",
        "  current = 2.19\n",
        "\n",
        "  W1 = torch.clone(SNN.fc1.weight).to(device)  #if .to(device) doesn't work, maybe try .cuda(device)?\n",
        "  W2 = torch.clone(SNN.fc2.weight).to(device)\n",
        "  W3 = torch.clone(SNN.fc3.weight).to(device)\n",
        "\n",
        "  SNN.fc1.weight = torch.nn.Parameter(W1*current)\n",
        "  SNN.fc2.weight = torch.nn.Parameter(W2*current)\n",
        "  SNN.fc3.weight = torch.nn.Parameter(W3*current)\n",
        "\n",
        "\n",
        "    \n",
        "  voltages_1 = torch.zeros(1200,1).to(device)\n",
        "  voltages_2 = torch.zeros(1200,1).to(device)\n",
        "  voltages_3 = torch.zeros(10,1).to(device)\n",
        "    \n",
        "    \n",
        "    \n",
        "  for i in range(inputs.shape[0]):\n",
        "        \n",
        "    this_input = torch.reshape(inputs[i],(inputs.shape[1],1)).to(device)\n",
        "        \n",
        "    firingRates = this_input * maxFiringRate # list of firing rates for each feature\n",
        "    firingRatesPer10ms = firingRates / 100 # expected spikes per 10ms per feature\n",
        "        \n",
        "    spike_trains = torch.rand(this_input.shape[0],100).to(device)\n",
        "        \n",
        "    \n",
        "        \n",
        "    spike_trains = spike_trains < firingRatesPer10ms\n",
        "        \n",
        "    spike_trains = spike_trains.float().to(device)\n",
        "        \n",
        "        \n",
        "        \n",
        "        \n",
        "    # propogate spike trains through snn:\n",
        "        \n",
        "    for t in range(100):\n",
        "      torch.cuda.empty_cache() \n",
        "      \n",
        "            \n",
        "      spike_trains_t = spike_trains[:,t].to(device)\n",
        "      spike_trains_t = torch.reshape(spike_trains_t, (spike_trains_t.shape[0],1))\n",
        "            \n",
        "      # pass through input layer to first hidden layer:\n",
        "            \n",
        "      W1 = torch.clone(SNN.fc1.weight).to(device)\n",
        "            \n",
        "      voltages_1 = voltages_1 + (W1 @  spike_trains_t)\n",
        "\n",
        "            \n",
        "      x = voltages_1 > 16.281 #0.03618 * 450\n",
        "            \n",
        "      spike_trains_t1 = x.float().to(device)\n",
        "            \n",
        "      W1 = W1 + (0.063 * (spike_trains_t1 @ spike_trains_t.T))\n",
        "      W1 = W1 - (0.069 * (spike_trains_t1 @ (1-spike_trains_t).T))\n",
        "            \n",
        "            \n",
        "            \n",
        "      # pass through first hidden layer to second hidden layer:\n",
        "            \n",
        "      W2 = torch.clone(SNN.fc2.weight).to(device)\n",
        "            \n",
        "      \n",
        "      voltages_2 = voltages_2 + (W2 @  spike_trains_t1)\n",
        "        \n",
        "\n",
        "      y = voltages_2 > 0.369 #0.02336\n",
        "            \n",
        "      spike_trains_t2 = y.float().to(device)\n",
        "            \n",
        "      W2 = W2 + (0.063 * (spike_trains_t2 @ spike_trains_t1.T))\n",
        "      W2 = W2 - (0.069 * (spike_trains_t2 @ (1-spike_trains_t1).T))\n",
        "            \n",
        "      # pass through second hidden layer to output layer:\n",
        "            \n",
        "      W3 = torch.clone(SNN.fc3.weight).to(device)\n",
        "            \n",
        "      voltages_3 = voltages_3 + (W3 @  spike_trains_t2)\n",
        "            \n",
        "      z = voltages_3 > 16.371 #0.03638 * 450 (or try 17.2805)\n",
        "            \n",
        "      spike_trains_t3 = z.float().to(device)\n",
        "\n",
        "      \n",
        "      \n",
        "            \n",
        "      W3 = W3 + (0.063 * (spike_trains_t3 @ spike_trains_t2.T))\n",
        "      W3 = W3 - (0.069 * (spike_trains_t3 @ (1-spike_trains_t2).T))\n",
        "\n",
        "      \n",
        "            \n",
        "      SNN.fc1.weight = torch.nn.Parameter(W1)\n",
        "      SNN.fc2.weight = torch.nn.Parameter(W2)\n",
        "      SNN.fc3.weight = torch.nn.Parameter(W3)\n",
        "\n",
        "      voltages_1 = voltages_1 - (voltages_1 * spike_trains_t1)\n",
        "      voltages_2 = voltages_2 - (voltages_2 * spike_trains_t2)\n",
        "      voltages_3 = voltages_3 - (voltages_3 * spike_trains_t3)\n",
        "\n",
        "      #print(spike_trains_t1)\n",
        "      #print(\"-----------------------\")\n",
        "      #print(spike_trains_t2)\n",
        "      #print(\"-----------------------\")\n",
        "      #print(spike_trains_t3)\n",
        "      #print(\"-----------------------\")\n",
        "\n",
        "  W1 = torch.clone(SNN.fc1.weight.data).to(device)\n",
        "  W2 = torch.clone(SNN.fc2.weight.data).to(device)\n",
        "  W3 = torch.clone(SNN.fc3.weight.data).to(device)\n",
        "\n",
        "  SNN.fc1.weight = torch.nn.Parameter(W1/current)\n",
        "  SNN.fc2.weight = torch.nn.Parameter(W2/current)\n",
        "  SNN.fc3.weight = torch.nn.Parameter(W3/current)\n",
        "\n",
        "       \n",
        "\n",
        "\n",
        "\n",
        "        \n",
        "      \n",
        "        \n",
        "        \n"
      ],
      "execution_count": null,
      "outputs": []
    },
    {
      "cell_type": "code",
      "metadata": {
        "id": "c0By67ErhxON"
      },
      "source": [
        "with torch.no_grad():\n",
        "  i = 0\n",
        "  for data in trainloader:\n",
        "      \n",
        "      inputs = data[0]\n",
        "      i += 1\n",
        "      sleep(SNN,inputs)"
      ],
      "execution_count": null,
      "outputs": []
    },
    {
      "cell_type": "code",
      "metadata": {
        "id": "uxKT-er3nSQy"
      },
      "source": [
        "print(SNN.fc1.weight.data.shape)\n",
        "print(SNN.fc2.weight.data.shape)\n",
        "print(SNN.fc3.weight.data.shape)"
      ],
      "execution_count": null,
      "outputs": []
    },
    {
      "cell_type": "code",
      "metadata": {
        "id": "cL-agkV5W98u"
      },
      "source": [
        "torch.save(SNN.state_dict(),\"snn_model.pt\")"
      ],
      "execution_count": null,
      "outputs": []
    },
    {
      "cell_type": "code",
      "metadata": {
        "id": "ALyNpTDNQsUW"
      },
      "source": [
        "from google.colab import files\n",
        "files.download('snn_model.pt')"
      ],
      "execution_count": null,
      "outputs": []
    }
  ]
}