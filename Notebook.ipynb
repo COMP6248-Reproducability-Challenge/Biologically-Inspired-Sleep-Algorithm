{
  "nbformat": 4,
  "nbformat_minor": 0,
  "metadata": {
    "colab": {
      "name": "Notebook.ipynb",
      "provenance": []
    },
    "kernelspec": {
      "name": "python3",
      "display_name": "Python 3"
    },
    "language_info": {
      "name": "python"
    }
  },
  "cells": [
    {
      "cell_type": "code",
      "metadata": {
        "colab": {
          "base_uri": "https://localhost:8080/"
        },
        "id": "U5aXxzDANRet",
        "outputId": "5d78c541-d4f7-416c-c35b-231dd5cc83c1"
      },
      "source": [
        "import numpy as np\n",
        "import torch\n",
        "import torch.optim as optim\n",
        "import torch.nn.functional as F\n",
        "import torchvision.transforms as transforms\n",
        "from torch import nn\n",
        "from torch.utils.data import DataLoader\n",
        "from torch.utils.data import Dataset\n",
        "from torchvision.datasets import MNIST\n",
        "from torchvision.datasets import ImageFolder\n",
        "from torch import optim\n",
        "%matplotlib inline\n",
        "import matplotlib.pyplot as plt\n",
        "from mpl_toolkits.mplot3d import Axes3D\n",
        "from matplotlib.colors import LogNorm\n",
        "from IPython.display import Image\n",
        "try:\n",
        "  import torchbearer\n",
        "except:\n",
        "  !pip install torchbearer"
      ],
      "execution_count": 1,
      "outputs": [
        {
          "output_type": "stream",
          "text": [
            "Collecting torchbearer\n",
            "\u001b[?25l  Downloading https://files.pythonhosted.org/packages/ff/e9/4049a47dd2e5b6346a2c5d215b0c67dce814afbab1cd54ce024533c4834e/torchbearer-0.5.3-py3-none-any.whl (138kB)\n",
            "\r\u001b[K     |██▍                             | 10kB 18.5MB/s eta 0:00:01\r\u001b[K     |████▊                           | 20kB 22.4MB/s eta 0:00:01\r\u001b[K     |███████▏                        | 30kB 11.7MB/s eta 0:00:01\r\u001b[K     |█████████▌                      | 40kB 9.2MB/s eta 0:00:01\r\u001b[K     |███████████▉                    | 51kB 6.4MB/s eta 0:00:01\r\u001b[K     |██████████████▎                 | 61kB 7.0MB/s eta 0:00:01\r\u001b[K     |████████████████▋               | 71kB 7.5MB/s eta 0:00:01\r\u001b[K     |███████████████████             | 81kB 8.2MB/s eta 0:00:01\r\u001b[K     |█████████████████████▍          | 92kB 8.1MB/s eta 0:00:01\r\u001b[K     |███████████████████████▊        | 102kB 8.3MB/s eta 0:00:01\r\u001b[K     |██████████████████████████      | 112kB 8.3MB/s eta 0:00:01\r\u001b[K     |████████████████████████████▌   | 122kB 8.3MB/s eta 0:00:01\r\u001b[K     |██████████████████████████████▉ | 133kB 8.3MB/s eta 0:00:01\r\u001b[K     |████████████████████████████████| 143kB 8.3MB/s \n",
            "\u001b[?25hRequirement already satisfied: numpy in /usr/local/lib/python3.7/dist-packages (from torchbearer) (1.19.5)\n",
            "Requirement already satisfied: torch>=1.0.0 in /usr/local/lib/python3.7/dist-packages (from torchbearer) (1.8.1+cu101)\n",
            "Requirement already satisfied: tqdm in /usr/local/lib/python3.7/dist-packages (from torchbearer) (4.41.1)\n",
            "Requirement already satisfied: typing-extensions in /usr/local/lib/python3.7/dist-packages (from torch>=1.0.0->torchbearer) (3.7.4.3)\n",
            "Installing collected packages: torchbearer\n",
            "Successfully installed torchbearer-0.5.3\n"
          ],
          "name": "stdout"
        }
      ]
    },
    {
      "cell_type": "code",
      "metadata": {
        "id": "oCryBDv1PYxr"
      },
      "source": [
        ""
      ],
      "execution_count": null,
      "outputs": []
    },
    {
      "cell_type": "code",
      "metadata": {
        "id": "EpaHIrboPZD4"
      },
      "source": [
        ""
      ],
      "execution_count": null,
      "outputs": []
    }
  ]
}